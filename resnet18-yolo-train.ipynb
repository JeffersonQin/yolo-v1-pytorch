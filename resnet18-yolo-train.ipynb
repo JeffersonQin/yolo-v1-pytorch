{
 "cells": [
  {
   "cell_type": "code",
   "execution_count": null,
   "metadata": {},
   "outputs": [],
   "source": [
    "%matplotlib inline\n",
    "%config InlineBackend.figure_formats = ['svg']\n",
    "from utils import load_data_voc\n",
    "from yolo import *\n",
    "from torch import nn\n",
    "import torchvision"
   ]
  },
  {
   "cell_type": "code",
   "execution_count": null,
   "metadata": {},
   "outputs": [],
   "source": [
    "train_iter, test_iter, test_iter_raw = load_data_voc(batch_size=16)"
   ]
  },
  {
   "cell_type": "code",
   "execution_count": null,
   "metadata": {},
   "outputs": [],
   "source": [
    "resnet18 = torchvision.models.resnet18(pretrained=True)\n",
    "backbone = nn.Sequential(*list(resnet18.children())[:-2]) # remove avg pool and fc\n",
    "net = Yolo(backbone, backbone_out_channels=512)"
   ]
  },
  {
   "cell_type": "code",
   "execution_count": null,
   "metadata": {
    "scrolled": false
   },
   "outputs": [],
   "source": [
    "def lr(epoch):\n",
    "    if epoch < 10: return 0.001 * (epoch + 1)\n",
    "    if epoch < 85: return 0.01\n",
    "    if epoch < 115: return 0.001\n",
    "    if epoch < 145: return 0.0001\n",
    "\n",
    "train(net, train_iter, test_iter, 145, lr=lr, momentum=0.9, weight_decay=5e-4, accum_batch_num=4, save_path='./model', pretrained=True)"
   ]
  }
 ],
 "metadata": {
  "interpreter": {
   "hash": "ab187dc4f90bff2e4e5b6910e1a0b0407affa61bc1c8fc0d08997240349c52fc"
  },
  "kernelspec": {
   "display_name": "Python 3 (ipykernel)",
   "language": "python",
   "name": "python3"
  },
  "language_info": {
   "codemirror_mode": {
    "name": "ipython",
    "version": 3
   },
   "file_extension": ".py",
   "mimetype": "text/x-python",
   "name": "python",
   "nbconvert_exporter": "python",
   "pygments_lexer": "ipython3",
   "version": "3.9.0"
  }
 },
 "nbformat": 4,
 "nbformat_minor": 2
}
